{
 "cells": [
  {
   "cell_type": "markdown",
   "metadata": {},
   "source": [
    "# Optimizing models with tensorboard\n",
    "code adopted from https://pythonprogramming.net/tensorboard-optimizing-models-deep-learning-python-tensorflow-keras/\n",
    "modified by Precious Jatau"
   ]
  },
  {
   "cell_type": "code",
   "execution_count": null,
   "metadata": {},
   "outputs": [],
   "source": [
    "import numpy as np\n",
    "import tensorflow as tf\n",
    "from tensorflow.keras.models import Sequential\n",
    "from tensorflow.keras.layers import Dense, Dropout, Activation, Flatten, Conv2D, MaxPooling2D\n",
    "from tensorflow.keras.callbacks import TensorBoard\n",
    "import pickle\n",
    "import time\n",
    "\n",
    "# dense layers is number of fully connected (FC) layers\n",
    "# conv layers is number of convolutional layers \n",
    "# layer sizes is number of nodes for FC and number of filters for conv\n",
    "dense_layers = [0, 1, 2]\n",
    "layer_sizes = [64] # [32, 64, 128]\n",
    "conv_layers = [2] # [1, 2, 3]\n",
    "num_epochs = 4\n",
    "\n",
    "# load data\n",
    "X = pickle.load(open(\"X.pickle\",\"rb\"))\n",
    "Y = pickle.load(open(\"Y.pickle\",\"rb\"))\n",
    "\n",
    "# normalize X using min-max scaling\n",
    "X = X/255.0\n",
    "\n",
    "for dense_layer in dense_layers:\n",
    "    for layer_size in layer_sizes:\n",
    "        for conv_layer in conv_layers:\n",
    "            NAME = \"{}-conv-{}-nodes-{}-dense-{}\".format(conv_layer, layer_size, dense_layer, int(time.time()))\n",
    "            tensorboard = TensorBoard(log_dir = 'logs\\{}'.format(NAME))\n",
    "            \n",
    "            model = Sequential()\n",
    "            \n",
    "            # convolutional layers\n",
    "            model.add(Conv2D(layer_size, (3,3), input_shape = X.shape[1:]))\n",
    "            model.add(Activation(\"relu\"))\n",
    "            model.add(MaxPooling2D(pool_size = (2,2)))\n",
    "\n",
    "            for l in range(conv_layer - 1):            \n",
    "                model.add(Conv2D(layer_size, (3,3)))\n",
    "                model.add(Activation(\"relu\"))\n",
    "                model.add(MaxPooling2D(pool_size = (2,2)))\n",
    "\n",
    "            # fully connected layers\n",
    "            model.add(Flatten())            \n",
    "            for l in range(dense_layer - 1):\n",
    "                model.add(Dense(layer_size))\n",
    "                model.add(Activation(\"relu\"))\n",
    "\n",
    "            # output layer\n",
    "            model.add(Dense(1))\n",
    "            model.add(Activation(\"sigmoid\"))\n",
    "\n",
    "            # compile model\n",
    "            model.compile(loss = \"binary_crossentropy\",\n",
    "                         optimizer = \"adam\",\n",
    "                         metrics = ['accuracy'])\n",
    "\n",
    "            model.fit(X, Y, batch_size = 32, epochs = num_epochs, validation_split = 0.1, callbacks = [tensorboard])"
   ]
  },
  {
   "cell_type": "code",
   "execution_count": null,
   "metadata": {},
   "outputs": [],
   "source": []
  }
 ],
 "metadata": {
  "kernelspec": {
   "display_name": "Python 3",
   "language": "python",
   "name": "python3"
  },
  "language_info": {
   "codemirror_mode": {
    "name": "ipython",
    "version": 3
   },
   "file_extension": ".py",
   "mimetype": "text/x-python",
   "name": "python",
   "nbconvert_exporter": "python",
   "pygments_lexer": "ipython3",
   "version": "3.7.3"
  }
 },
 "nbformat": 4,
 "nbformat_minor": 2
}
