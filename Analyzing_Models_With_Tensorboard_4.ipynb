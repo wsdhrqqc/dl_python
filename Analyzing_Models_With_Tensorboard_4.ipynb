{
 "cells": [
  {
   "cell_type": "markdown",
   "metadata": {},
   "source": [
    "# Analyzing models with tensorboard\n",
    "code adopted from https://pythonprogramming.net/tensorboard-analysis-deep-learning-python-tensorflow-keras/  \n",
    "modified by Precious Jatau"
   ]
  },
  {
   "cell_type": "code",
   "execution_count": 3,
   "metadata": {},
   "outputs": [
    {
     "name": "stdout",
     "output_type": "stream",
     "text": [
      "(50, 50, 1)\n",
      "Train on 22451 samples, validate on 2495 samples\n",
      "Epoch 1/8\n",
      "   32/22451 [..............................] - ETA: 17:44 - loss: 0.6793 - accuracy: 0.6250WARNING:tensorflow:Method (on_train_batch_end) is slow compared to the batch update (0.237336). Check your callbacks.\n",
      "22451/22451 [==============================] - 130s 6ms/sample - loss: 0.6162 - accuracy: 0.6538 - val_loss: 0.5180 - val_accuracy: 0.7519\n",
      "Epoch 2/8\n",
      "22451/22451 [==============================] - 128s 6ms/sample - loss: 0.5104 - accuracy: 0.7527 - val_loss: 0.5327 - val_accuracy: 0.7299\n",
      "Epoch 3/8\n",
      "22451/22451 [==============================] - 119s 5ms/sample - loss: 0.4663 - accuracy: 0.7807 - val_loss: 0.4548 - val_accuracy: 0.7888\n",
      "Epoch 4/8\n",
      "22451/22451 [==============================] - 116s 5ms/sample - loss: 0.4273 - accuracy: 0.8017 - val_loss: 0.4390 - val_accuracy: 0.8016\n",
      "Epoch 5/8\n",
      "22451/22451 [==============================] - 130s 6ms/sample - loss: 0.3901 - accuracy: 0.8233 - val_loss: 0.4195 - val_accuracy: 0.8036\n",
      "Epoch 6/8\n",
      "22451/22451 [==============================] - 132s 6ms/sample - loss: 0.3544 - accuracy: 0.8424 - val_loss: 0.4340 - val_accuracy: 0.8032\n",
      "Epoch 7/8\n",
      "22451/22451 [==============================] - 135s 6ms/sample - loss: 0.3155 - accuracy: 0.8622 - val_loss: 0.4299 - val_accuracy: 0.8080\n",
      "Epoch 8/8\n",
      "22451/22451 [==============================] - 135s 6ms/sample - loss: 0.2781 - accuracy: 0.8794 - val_loss: 0.4368 - val_accuracy: 0.8108\n"
     ]
    },
    {
     "data": {
      "text/plain": [
       "<tensorflow.python.keras.callbacks.History at 0x1e63fe85ba8>"
      ]
     },
     "execution_count": 3,
     "metadata": {},
     "output_type": "execute_result"
    }
   ],
   "source": [
    "# python environment\n",
    "!C:\\Users\\Sir Precious\\Desktop\\OU classes\\Spring 2020\\Advanced Machine Learning\\Jupyter work\\Environments\\deep_py\\Scripts\\activate\n",
    "\n",
    "import numpy as np\n",
    "import tensorflow as tf\n",
    "from tensorflow.keras.models import Sequential\n",
    "from tensorflow.keras.layers import Dense, Dropout, Activation, Flatten, Conv2D, MaxPooling2D\n",
    "from tensorflow.keras.callbacks import TensorBoard\n",
    "import pickle\n",
    "import time\n",
    "\n",
    "NAME = \"Cat-vs-dog-cnn-64x2-{}\".format(int(time.time()))\n",
    "tensorboard = TensorBoard(log_dir = 'logs\\{}'.format(NAME))\n",
    "\n",
    "X = pickle.load(open(\"X.pickle\",\"rb\"))\n",
    "Y = pickle.load(open(\"Y.pickle\",\"rb\"))\n",
    "\n",
    "# normalize X using min-max scaling\n",
    "X = X/255.0\n",
    "print(X.shape[1:])\n",
    "\n",
    "model = Sequential()\n",
    "\n",
    "# convolution layer with 64, 3x3 filters\n",
    "model.add(Conv2D(64, (3,3), input_shape = X.shape[1:]))\n",
    "model.add(Activation(\"relu\"))\n",
    "# max pooling layer with a 2x2 filter\n",
    "model.add(MaxPooling2D(pool_size = (2,2)))\n",
    "\n",
    "model.add(Conv2D(64, (3,3)))\n",
    "model.add(Activation(\"relu\"))\n",
    "model.add(MaxPooling2D(pool_size = (2,2)))\n",
    "\n",
    "# fully connected layer\n",
    "model.add(Flatten())\n",
    "model.add(Dense(64))\n",
    "model.add(Activation(\"relu\"))\n",
    "\n",
    "# output layer\n",
    "model.add(Dense(1))\n",
    "model.add(Activation(\"sigmoid\"))\n",
    "\n",
    "# compile model\n",
    "model.compile(loss = \"binary_crossentropy\",\n",
    "             optimizer = \"adam\",\n",
    "             metrics = ['accuracy'])\n",
    "\n",
    "model.fit(X, Y, batch_size = 32, epochs = 8, validation_split = 0.1, callbacks = [tensorboard])"
   ]
  }
 ],
 "metadata": {
  "kernelspec": {
   "display_name": "Python 3",
   "language": "python",
   "name": "python3"
  },
  "language_info": {
   "codemirror_mode": {
    "name": "ipython",
    "version": 3
   },
   "file_extension": ".py",
   "mimetype": "text/x-python",
   "name": "python",
   "nbconvert_exporter": "python",
   "pygments_lexer": "ipython3",
   "version": "3.7.3"
  }
 },
 "nbformat": 4,
 "nbformat_minor": 2
}
